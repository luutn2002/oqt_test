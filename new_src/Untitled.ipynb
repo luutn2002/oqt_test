{
 "cells": [
  {
   "cell_type": "code",
   "execution_count": 30,
   "id": "d69fc469",
   "metadata": {},
   "outputs": [
    {
     "name": "stdout",
     "output_type": "stream",
     "text": [
      "tensor([5., 0., 4.,  ..., 1., 3., 3.])\n"
     ]
    },
    {
     "ename": "IndexError",
     "evalue": "tensors used as indices must be long, byte or bool tensors",
     "output_type": "error",
     "traceback": [
      "\u001b[0;31m---------------------------------------------------------------------------\u001b[0m",
      "\u001b[0;31mIndexError\u001b[0m                                Traceback (most recent call last)",
      "Cell \u001b[0;32mIn [30], line 28\u001b[0m\n\u001b[1;32m     26\u001b[0m \u001b[38;5;28mprint\u001b[39m(tensor_y)\n\u001b[1;32m     27\u001b[0m encode_result \u001b[38;5;241m=\u001b[39m custom_one_hot_encode(tensor_y)\n\u001b[0;32m---> 28\u001b[0m decode_result \u001b[38;5;241m=\u001b[39m \u001b[43mcustom_one_hot_decode\u001b[49m\u001b[43m(\u001b[49m\u001b[43mencode_result\u001b[49m\u001b[43m)\u001b[49m\n\u001b[1;32m     29\u001b[0m \u001b[38;5;28mprint\u001b[39m(decode_result)\n",
      "Cell \u001b[0;32mIn [30], line 24\u001b[0m, in \u001b[0;36mcustom_one_hot_decode\u001b[0;34m(data)\u001b[0m\n\u001b[1;32m     21\u001b[0m \u001b[38;5;28;01mdef\u001b[39;00m \u001b[38;5;21mcustom_one_hot_decode\u001b[39m(data):\n\u001b[1;32m     22\u001b[0m     x \u001b[38;5;241m=\u001b[39m torch\u001b[38;5;241m.\u001b[39mLongTensor([\u001b[38;5;241m0\u001b[39m, \u001b[38;5;241m1\u001b[39m, \u001b[38;5;241m2\u001b[39m, \u001b[38;5;241m3\u001b[39m, \u001b[38;5;241m4\u001b[39m, \u001b[38;5;241m5\u001b[39m, \u001b[38;5;241m6\u001b[39m, \u001b[38;5;241m7\u001b[39m])\n\u001b[0;32m---> 24\u001b[0m     \u001b[38;5;28;01mreturn\u001b[39;00m \u001b[43mx\u001b[49m\u001b[43m[\u001b[49m\u001b[43mdata\u001b[49m\u001b[43m]\u001b[49m\n",
      "\u001b[0;31mIndexError\u001b[0m: tensors used as indices must be long, byte or bool tensors"
     ]
    }
   ],
   "source": [
    "import torch\n",
    "from torch.utils.data import TensorDataset, DataLoader\n",
    "\n",
    "#dataset = torch.load('data.pt')\n",
    "#label = torch.load('label.pt')\n",
    "\n",
    "tensor_x = torch.load('data.pt') # transform to torch tensor\n",
    "tensor_y = torch.load('label.pt')\n",
    "\n",
    "def custom_one_hot_encode(data):\n",
    "    x = torch.DoubleTensor([[1, 0, 0, 0, 0, 0, 0],\n",
    "                            [0, 1, 0, 0, 0, 0, 0],\n",
    "                            [0, 0, 1, 0, 0, 0, 0],\n",
    "                            [0, 0, 0, 1, 0, 0, 0],\n",
    "                            [0, 0, 0, 0, 1, 0, 0],\n",
    "                            [0, 0, 0, 0, 0, 1, 0],\n",
    "                            [0, 0, 0, 0, 0, 0, 1],\n",
    "                            [0, 0, 0, 0, 0, 0, 0],])\n",
    "    return x[data.to(torch.int64)]\n",
    "    \n",
    "def custom_one_hot_decode(data):\n",
    "    x = torch.LongTensor([0, 1, 2, 3, 4, 5, 6, 7])\n",
    "    \n",
    "    return x[data]\n",
    "\n",
    "print(tensor_y)\n",
    "encode_result = custom_one_hot_encode(tensor_y)\n",
    "decode_result = custom_one_hot_decode(encode_result)\n",
    "print(decode_result)\n",
    "\n",
    "#torch_dataset = TensorDataset(tensor_x,tensor_y) # create your datset\n",
    "#torch_dataloader = DataLoader(torch_dataset) # create your dataloader"
   ]
  },
  {
   "cell_type": "code",
   "execution_count": 14,
   "id": "a70209ec",
   "metadata": {},
   "outputs": [
    {
     "name": "stdout",
     "output_type": "stream",
     "text": [
      "(tensor([[9.1244e-13, 8.8116e-12, 6.9113e-11,  ..., 4.9584e-11, 7.4643e-12,\n",
      "         9.1244e-13],\n",
      "        [7.4643e-12, 7.2083e-11, 5.6536e-10,  ..., 4.7885e-10, 7.2083e-11,\n",
      "         8.8116e-12],\n",
      "        [4.9584e-11, 4.7885e-10, 3.7557e-09,  ..., 3.7557e-09, 5.6536e-10,\n",
      "         6.9113e-11],\n",
      "        ...,\n",
      "        [6.9113e-11, 5.6536e-10, 3.7557e-09,  ..., 3.7557e-09, 4.7885e-10,\n",
      "         4.9584e-11],\n",
      "        [8.8116e-12, 7.2083e-11, 4.7885e-10,  ..., 5.6536e-10, 7.2083e-11,\n",
      "         7.4643e-12],\n",
      "        [9.1244e-13, 7.4643e-12, 4.9584e-11,  ..., 6.9113e-11, 8.8116e-12,\n",
      "         9.1244e-13]]), tensor(5.))\n"
     ]
    }
   ],
   "source": [
    "print(torch_dataset[0])"
   ]
  },
  {
   "cell_type": "code",
   "execution_count": 8,
   "id": "d020741a",
   "metadata": {},
   "outputs": [
    {
     "data": {
      "text/plain": [
       "tensor([[1, 0, 0, 0, 0, 0, 0, 0],\n",
       "        [0, 1, 0, 0, 0, 0, 0, 0],\n",
       "        [0, 0, 1, 0, 0, 0, 0, 0],\n",
       "        [0, 0, 0, 1, 0, 0, 0, 0],\n",
       "        [0, 0, 0, 0, 1, 0, 0, 0],\n",
       "        [0, 0, 0, 0, 0, 1, 0, 0],\n",
       "        [0, 0, 0, 0, 0, 0, 1, 0],\n",
       "        [0, 0, 0, 0, 0, 0, 0, 1]])"
      ]
     },
     "execution_count": 8,
     "metadata": {},
     "output_type": "execute_result"
    }
   ],
   "source": [
    "label_map = {'fock_dm': 0,\n",
    "            'coherent_dm':1,\n",
    "            'thermal_dm':2,\n",
    "            'num':3,\n",
    "            'binomial':4,\n",
    "            'cat':5,\n",
    "            'gkp':6,\n",
    "            'random':7}\n",
    "\n",
    "import torch.nn.functional as F\n",
    "\n",
    "x = torch.tensor([0, 1, 2, 3, 4, 5, 6, 7])\n",
    "F.one_hot(x, num_classes=8)"
   ]
  },
  {
   "cell_type": "code",
   "execution_count": null,
   "id": "c2e2f9ea",
   "metadata": {},
   "outputs": [],
   "source": [
    "from torch import nn\n",
    "\n",
    "class GaussianNoise(nn.Module):\n",
    "    \"\"\"Apply additive zero-centered Gaussian noise.\n",
    "    This is useful to mitigate overfitting\n",
    "    (you could see it as a form of random data augmentation).\n",
    "    Gaussian Noise (GS) is a natural choice as corruption process\n",
    "    for real valued inputs.\n",
    "    As it is a regularization layer, it is only active at training time.\n",
    "    Args:\n",
    "      stddev: Float, standard deviation of the noise distribution.\n",
    "    Call arguments:\n",
    "      inputs: Input tensor (of any rank).\n",
    "    Input shape:\n",
    "      Arbitrary. Use the keyword argument `input_shape`\n",
    "      (tuple of integers, does not include the samples axis)\n",
    "      when using this layer as the first layer in a model.\n",
    "    Output shape:\n",
    "      Same shape as input.\n",
    "    \"\"\"\n",
    "\n",
    "    def __init__(self, \n",
    "                 std, \n",
    "                 mean=0.):\n",
    "        super().__init__()\n",
    "        self.mean = mean\n",
    "        self.std = std\n",
    "\n",
    "    def foward(self, x):\n",
    "        return x + torch.randn(x.size())*self.std + self.mean\n",
    "\n",
    "class Classifier(nn.Module):\n",
    "    def __init__(self):\n",
    "        super().__init__()\n",
    "        self.conv1 = nn.Conv2d(1, 32, 3, bias=False)\n",
    "        self.leaky_relu = nn.LeakyReLU()\n",
    "        self.conv2 = nn.Conv2d(1, 32, 3, bias=False)\n",
    "        self.drop_out = nn.Dropout(p=0.4)\n",
    "        self.noise = AddGaussianNoise(0.005)\n",
    "\n",
    "    def forward(self, x):\n",
    "        x = self.conv1(x)\n",
    "        x = self.leaky_relu(x)\n",
    "        x = self.conv2(x)\n",
    "        x = self.leaky_relu(x)\n",
    "        x\n",
    "        \n",
    "        \n",
    "        return logits\n",
    "    \n",
    "    \n",
    "    inp = tf.keras.layers.Input(shape=[32, 32, 1], name='input_image')\n",
    "    x = tf.keras.layers.Conv2D(32, 3, strides=1,\n",
    "                               use_bias=False,\n",
    "                              )(inp)\n",
    "    x = tf.keras.layers.LeakyReLU()(x)\n",
    "\n",
    "    x = tf.keras.layers.Conv2D(32, 3, strides=1,\n",
    "                               use_bias=False,\n",
    "                              )(x)\n",
    "    x = tf.keras.layers.LeakyReLU()(x)\n",
    "\n",
    "    x = tf.keras.layers.GaussianNoise(0.005)(x)\n",
    "    x = tf.keras.layers.Dropout(0.4)(x) \n",
    "    \n",
    "    x = tf.keras.layers.Conv2D(32, 3, strides=2,\n",
    "                               use_bias=False)(x)\n",
    "    x = tf.keras.layers.LeakyReLU()(x)\n",
    "    \n",
    "\n",
    "    x = tf.keras.layers.Conv2D(64, 3, strides=1,\n",
    "                              use_bias=False)(x)\n",
    "    x = tf.keras.layers.LeakyReLU()(x)\n",
    "    \n",
    "    x = tf.keras.layers.GaussianNoise(0.005)(x)\n",
    "    x = tf.keras.layers.Dropout(0.4)(x)    \n",
    "    \n",
    "    x = tf.keras.layers.Conv2D(64, 3, strides=1,\n",
    "                              use_bias=False)(x)\n",
    "    x = tf.keras.layers.LeakyReLU()(x)\n",
    "    \n",
    "    x = tf.keras.layers.Conv2D(64, 3, strides=2,\n",
    "                              use_bias=False)(x)\n",
    "    x = tf.keras.layers.LeakyReLU()(x)\n",
    "\n",
    "    x = tf.keras.layers.Dropout(0.4)(x)\n",
    "    \n",
    "    x = tf.keras.layers.Flatten()(x)\n",
    "    x = tf.keras.layers.Dense(512)(x)\n",
    "    x = tf.keras.layers.LeakyReLU()(x)\n",
    "    \n",
    "    x = tf.keras.layers.Dropout(0.4)(x)    \n",
    "    \n",
    "    x = tf.keras.layers.Dense(256)(x)\n",
    "    x = tf.keras.layers.LeakyReLU()(x)\n",
    "    \n",
    "    x = tf.keras.layers.Dense(7)(x)\n",
    "\n",
    "    return tf.keras.Model(inputs=inp, outputs=x)"
   ]
  }
 ],
 "metadata": {
  "kernelspec": {
   "display_name": "Python 3 (ipykernel)",
   "language": "python",
   "name": "python3"
  },
  "language_info": {
   "codemirror_mode": {
    "name": "ipython",
    "version": 3
   },
   "file_extension": ".py",
   "mimetype": "text/x-python",
   "name": "python",
   "nbconvert_exporter": "python",
   "pygments_lexer": "ipython3",
   "version": "3.8.10"
  }
 },
 "nbformat": 4,
 "nbformat_minor": 5
}
