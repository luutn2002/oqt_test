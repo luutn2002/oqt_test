{
 "cells": [
  {
   "cell_type": "code",
   "execution_count": 1,
   "id": "a586dfdc",
   "metadata": {},
   "outputs": [
    {
     "name": "stderr",
     "output_type": "stream",
     "text": [
      "2022-12-23 02:02:30.855680: I tensorflow/core/platform/cpu_feature_guard.cc:193] This TensorFlow binary is optimized with oneAPI Deep Neural Network Library (oneDNN) to use the following CPU instructions in performance-critical operations:  AVX2 FMA\n",
      "To enable them in other operations, rebuild TensorFlow with the appropriate compiler flags.\n",
      "2022-12-23 02:02:30.977290: E tensorflow/stream_executor/cuda/cuda_blas.cc:2981] Unable to register cuBLAS factory: Attempting to register factory for plugin cuBLAS when one has already been registered\n",
      "2022-12-23 02:02:31.418416: W tensorflow/stream_executor/platform/default/dso_loader.cc:64] Could not load dynamic library 'libnvinfer.so.7'; dlerror: libnvinfer.so.7: cannot open shared object file: No such file or directory\n",
      "2022-12-23 02:02:31.418462: W tensorflow/stream_executor/platform/default/dso_loader.cc:64] Could not load dynamic library 'libnvinfer_plugin.so.7'; dlerror: libnvinfer_plugin.so.7: cannot open shared object file: No such file or directory\n",
      "2022-12-23 02:02:31.418468: W tensorflow/compiler/tf2tensorrt/utils/py_utils.cc:38] TF-TRT Warning: Cannot dlopen some TensorRT libraries. If you would like to use Nvidia GPU with TensorRT, please make sure the missing libraries mentioned above are installed properly.\n"
     ]
    },
    {
     "name": "stdout",
     "output_type": "stream",
     "text": [
      "Using cuda device\n"
     ]
    },
    {
     "data": {
      "text/plain": [
       "'\\ntrans = [MixedStateNoise(),\\n        GaussianConvolutionTransformation(gauss_kernel),\\n        PhotonLossNoise(),\\n        AffineTransformation(100),\\n        GaussianNoiseTransformation(0.2),\\n        PepperNoise()]\\n\\ntorch_dataset = CustomTensorDataset((tensor_x, tensor_y), transform=trans)\\n\\ntrain_size = int(0.8 * len(torch_dataset))\\ntest_size = len(torch_dataset) - train_size\\ntrain_dataset, test_dataset = torch.utils.data.random_split(torch_dataset, [train_size, test_size])\\ntrain_dataloader = DataLoader(train_dataset, shuffle=True, batch_size=128) # create your dataloader\\ntest_dataloader = DataLoader(test_dataset, batch_size=128)\\n\\nfor X, y in test_dataloader:\\n    print(f\"Shape of X [N, C, H, W]: {X.shape}\")\\n    print(f\"Shape of y: {y.shape} {y.dtype}\")\\n    break\\n'"
      ]
     },
     "execution_count": 1,
     "metadata": {},
     "output_type": "execute_result"
    }
   ],
   "source": [
    "import torch\n",
    "from torch.utils.data import TensorDataset, DataLoader, Dataset\n",
    "import numpy as np\n",
    "from skimage.util import random_noise\n",
    "from torchvision import transforms\n",
    "from qst_nn.ops import gaus2d, add_state_noise\n",
    "from qst_nn.ops import cat, num, thermal_dm, binomial, coherent_dm, fock_dm, gkp\n",
    "from torch import nn\n",
    "from qutip.wigner import qfunc\n",
    "from qst_nn.utils import add_photon_noise\n",
    "from qst_nn.utils import plot_husimi_directly, plot_three_husimi\n",
    "import matplotlib.pyplot as plt\n",
    "\n",
    "hilbert_size = 32\n",
    "grid_size = 32\n",
    "device = torch.device(\"cuda\")\n",
    "print(f\"Using {device} device\")\n",
    "\n",
    "xvec = np.linspace(-5, 5, 32)\n",
    "yvec = np.linspace(-5, 5, 32)\n",
    "\n",
    "tensor_x = torch.Tensor(torch.load('data.pt')) # transform to torch tensor\n",
    "tensor_y = torch.Tensor(torch.load('label.pt'))\n",
    "\n",
    "tensor_x = torch.unsqueeze(tensor_x, dim=1)\n",
    "#torch_dataset = TensorDataset(tensor_x, tensor_y) # create your dataset\n",
    "\n",
    "nth = 3 # Thermal photon number (determines the Gaussian convolution)\n",
    "X, Y = np.meshgrid(xvec, yvec) #get 2D variables instead of 1D\n",
    "gauss_kernel = gaus2d(X, Y, n0=nth)\n",
    "\n",
    "class MixedStateNoise(object):\n",
    "    \"\"\"Add mixed state noise to image.\n",
    "\n",
    "    Args:\n",
    "        amount (int): Desired pepper noise amount. Suggested decent amount is =< 0.5.\n",
    "    \"\"\"\n",
    "    def __init__(self, \n",
    "                 sigma=0.5,\n",
    "                 sparsity=0.8):\n",
    "        assert isinstance(sigma, float)\n",
    "        assert isinstance(sparsity, float)\n",
    "        self.sigma = sigma\n",
    "        self.sparsity = sparsity        \n",
    "        self.function_list = [fock_dm, coherent_dm, thermal_dm, \n",
    "                              num, binomial, cat, gkp]\n",
    "\n",
    "    def __call__(self, sample):\n",
    "        rho = self.function_list[sample[1].to(dtype=torch.long)](hilbert_size)\n",
    "        rho_mixed = add_state_noise(rho[0], sigma=self.sigma, sparsity=self.sparsity)\n",
    "        data_mixed = torch.Tensor(qfunc(rho_mixed, xvec, yvec, g=2)).to(dtype=torch.float)\n",
    "        return data_mixed, sample[1]\n",
    "\n",
    "class GaussianConvolutionTransformation(object):\n",
    "    \"\"\"\n",
    "    Expectation layer that calculates expectation values for a set of operators on a batch of rhos.\n",
    "    You can specify different sets of operators for each density matrix in the batch.\n",
    "    \"\"\"\n",
    "    def __init__(self, \n",
    "                 kernel):\n",
    "        self.kernel = kernel[None, None, :, :]\n",
    "\n",
    "    def __call__(self, sample):\n",
    "        \"\"\"Expectation function call\n",
    "        \"\"\"\n",
    "        return nn.functional.conv2d(torch.unsqueeze(sample[0], dim=0), \n",
    "                                    torch.from_numpy(self.kernel).to(dtype=torch.float),  \n",
    "                                    padding='same'), sample[1]\n",
    "    \n",
    "class PhotonLossNoise(object):\n",
    "    \"\"\"Add photon loss noise to image.\n",
    "\n",
    "    Args:\n",
    "        amount (int): Desired pepper noise amount. Suggested decent amount is =< 0.5.\n",
    "    \"\"\"\n",
    "\n",
    "    def __init__(self, \n",
    "                 gamma=0.05,\n",
    "                 tlist=None):\n",
    "        assert isinstance(gamma, float)\n",
    "        self.gamma = gamma       \n",
    "        self.function_list = [fock_dm, coherent_dm, thermal_dm, \n",
    "                              num, binomial, cat, gkp]\n",
    "        self.tlist = tlist\n",
    "\n",
    "    def __call__(self, sample):\n",
    "        rho = self.function_list[sample[1].to(dtype=torch.long)](hilbert_size)\n",
    "            \n",
    "        if self.tlist: photon_loss_states = add_photon_noise(rho[0], gamma=self.gamma, tlist=self.tlist)\n",
    "        else:\n",
    "            tlist = np.linspace(0, 1000, 2000)\n",
    "            photon_loss_states = add_photon_noise(rho[0], gamma=self.gamma, tlist=tlist)\n",
    "                \n",
    "        rho_photon_loss = photon_loss_states[555]\n",
    "        data_photon_loss = torch.Tensor(qfunc(rho_photon_loss, xvec, yvec, g=2)).to(dtype=torch.float)\n",
    "            \n",
    "        return data_photon_loss, sample[1]\n",
    "\n",
    "class PepperNoise(object):\n",
    "    \"\"\"Add pepper noise to image.\n",
    "\n",
    "    Args:\n",
    "        amount (int): Desired pepper noise amount. Suggested decent amount is =< 0.5.\n",
    "    \"\"\"\n",
    "\n",
    "    def __init__(self, \n",
    "                 amount=0.5):\n",
    "        assert isinstance(amount, float)\n",
    "        self.amount = amount\n",
    "\n",
    "    def __call__(self, sample):\n",
    "        return torch.Tensor(random_noise(sample[0], \n",
    "                                         mode=\"pepper\", \n",
    "                                         amount = self.amount)).to(dtype=torch.float), sample[1]\n",
    "    \n",
    "class AffineTransformation(object):\n",
    "    \"\"\"Add pepper noise to image.\n",
    "\n",
    "    Args:\n",
    "        amount (int): Desired pepper noise amount. Suggested decent amount is =< 0.5.\n",
    "    \"\"\"\n",
    "\n",
    "    def __init__(self, \n",
    "                 degree,\n",
    "                 shear=5):\n",
    "        self.degree = degree\n",
    "        self.shear = shear\n",
    "\n",
    "    def __call__(self, sample):\n",
    "        return transforms.RandomAffine(self.degree, shear=self.shear)(torch.unsqueeze(sample[0], dim=0)), sample[1]\n",
    "\n",
    "class GaussianNoiseTransformation(object):\n",
    "    \"\"\"Add Gaussian noise to image.\n",
    "\n",
    "    Args:\n",
    "        std (int): Standard devitation. Suggested is =< 0.2 as in paper.\n",
    "    \"\"\"\n",
    "\n",
    "    def __init__(self, \n",
    "                 std,\n",
    "                 mean=0.):\n",
    "        assert isinstance(std, float)\n",
    "        assert isinstance(mean, float)\n",
    "        self.mean = mean\n",
    "        self.std = std\n",
    "\n",
    "    def __call__(self, sample):\n",
    "        x= sample[0]/torch.max(sample[0])\n",
    "        return x + torch.randn(x.size())*self.std + self.mean, sample[1]\n",
    "\n",
    "class CustomTensorDataset(Dataset):\n",
    "    \"\"\"TensorDataset with support of transforms.\n",
    "    \"\"\"\n",
    "    def __init__(self, \n",
    "                 tensors, \n",
    "                 transform=None):\n",
    "        \n",
    "        assert all(tensors[0].size(0) == tensor.size(0) for tensor in tensors)\n",
    "        self.tensors = tensors\n",
    "        self.transform = transform\n",
    "\n",
    "    def __getitem__(self, index):\n",
    "        sample = [self.tensors[0][index], self.tensors[1][index]]\n",
    "        \n",
    "        if (self.transform and sample[1] != 7):\n",
    "            selected = transforms.RandomApply(self.transform)\n",
    "            sample = selected(sample)\n",
    "            \n",
    "        return sample[0], sample[1]\n",
    "\n",
    "    def __len__(self):\n",
    "        return self.tensors[0].size(0)\n",
    "'''\n",
    "trans = [MixedStateNoise(),\n",
    "        GaussianConvolutionTransformation(gauss_kernel),\n",
    "        PhotonLossNoise(),\n",
    "        AffineTransformation(100),\n",
    "        GaussianNoiseTransformation(0.2),\n",
    "        PepperNoise()]\n",
    "\n",
    "torch_dataset = CustomTensorDataset((tensor_x, tensor_y), transform=trans)\n",
    "\n",
    "train_size = int(0.8 * len(torch_dataset))\n",
    "test_size = len(torch_dataset) - train_size\n",
    "train_dataset, test_dataset = torch.utils.data.random_split(torch_dataset, [train_size, test_size])\n",
    "train_dataloader = DataLoader(train_dataset, shuffle=True, batch_size=128) # create your dataloader\n",
    "test_dataloader = DataLoader(test_dataset, batch_size=128)\n",
    "\n",
    "for X, y in test_dataloader:\n",
    "    print(f\"Shape of X [N, C, H, W]: {X.shape}\")\n",
    "    print(f\"Shape of y: {y.shape} {y.dtype}\")\n",
    "    break\n",
    "'''"
   ]
  },
  {
   "cell_type": "code",
   "execution_count": 4,
   "id": "d69fc469",
   "metadata": {
    "scrolled": true
   },
   "outputs": [
    {
     "name": "stderr",
     "output_type": "stream",
     "text": [
      "/home/ccl/qst-nn-venv/src/qst-nn/qst_nn/utils.py:415: MatplotlibDeprecationWarning: shading='flat' when X and Y have the same dimensions as C is deprecated since 3.3.  Either specify the corners of the quadrilaterals with X and Y, or pass shading='auto', 'nearest' or 'gouraud', or set rcParams['pcolor.shading'].  This will become an error two minor releases later.\n",
      "  im = ax.pcolor(xvec, yvec, x, cmap=cmap, norm=norm)\n"
     ]
    },
    {
     "name": "stdout",
     "output_type": "stream",
     "text": [
      "torch.Size([32, 32])\n",
      "torch.Size([1, 32, 32])\n",
      "torch.Size([32, 32])\n",
      "torch.Size([32, 32])\n",
      "torch.Size([1, 32, 32])\n",
      "torch.Size([32, 32])\n"
     ]
    },
    {
     "data": {
      "text/plain": [
       "(<Figure size 104.095x104.095 with 2 Axes>,\n",
       " <AxesSubplot:title={'center':'Gaussian additive noise'}, xlabel='Re($\\\\beta$)', ylabel='Im$(\\\\beta)$'>)"
      ]
     },
     "execution_count": 4,
     "metadata": {},
     "output_type": "execute_result"
    },
    {
     "data": {
      "image/png": "[encoded data removed]",
      "text/plain": [
       "<Figure size 104.095x104.095 with 2 Axes>"
      ]
     },
     "metadata": {},
     "output_type": "display_data"
    },
    {
     "data": {
      "image/png": "[encoded data removed]",
      "text/plain": [
       "<Figure size 104.095x104.095 with 2 Axes>"
      ]
     },
     "metadata": {},
     "output_type": "display_data"
    },
    {
     "data": {
      "image/png": "[encoded data removed]",
      "text/plain": [
       "<Figure size 104.095x104.095 with 2 Axes>"
      ]
     },
     "metadata": {},
     "output_type": "display_data"
    },
    {
     "data": {
      "image/png": "[encoded data removed]",
      "text/plain": [
       "<Figure size 104.095x104.095 with 2 Axes>"
      ]
     },
     "metadata": {},
     "output_type": "display_data"
    },
    {
     "data": {
      "image/png": "[encoded data removed]",
      "text/plain": [
       "<Figure size 104.095x104.095 with 2 Axes>"
      ]
     },
     "metadata": {},
     "output_type": "display_data"
    },
    {
     "data": {
      "image/png": "[encoded data removed]",
      "text/plain": [
       "<Figure size 104.095x104.095 with 2 Axes>"
      ]
     },
     "metadata": {},
     "output_type": "display_data"
    },
    {
     "data": {
      "image/png": "[encoded data removed]",
      "text/plain": [
       "<Figure size 104.095x104.095 with 2 Axes>"
      ]
     },
     "metadata": {},
     "output_type": "display_data"
    }
   ],
   "source": [
    "rho, mu = binomial(hilbert_size)\n",
    "original_bin = qfunc(rho, xvec, yvec, g=2)\n",
    "plot_husimi_directly(original_bin, cmap='hot', title=\"Normal state\")\n",
    "\n",
    "original_bin = torch.from_numpy(original_bin).to(dtype=torch.float)\n",
    "mixed, _ = MixedStateNoise()([original_bin, torch.tensor(4)])\n",
    "print(mixed.shape)\n",
    "plot_husimi_directly(mixed.numpy(), cmap='hot', title=\"Mixed state noise\")\n",
    "\n",
    "gauconv, _ = GaussianConvolutionTransformation(gauss_kernel)([original_bin, torch.tensor(4)])\n",
    "print(gauconv.shape)\n",
    "plot_husimi_directly(torch.squeeze(gauconv, dim=0).numpy(), cmap='hot', title=\"Gaussian conv noise\")\n",
    "\n",
    "photonloss, _ = PhotonLossNoise()([original_bin, torch.tensor(4)])\n",
    "print(photonloss.shape)\n",
    "plot_husimi_directly(photonloss.numpy(), cmap='hot', title=\"Photon loss noise\")\n",
    "\n",
    "pepper, _ = PepperNoise()([original_bin, torch.tensor(4)])\n",
    "print(pepper.shape)\n",
    "plot_husimi_directly(pepper.numpy(), cmap='hot', title=\"Pepper noise\")\n",
    "\n",
    "affine, _ = AffineTransformation(100)([original_bin, torch.tensor(4)])\n",
    "print(affine.shape)\n",
    "plot_husimi_directly(torch.squeeze(affine, dim=0).numpy(), cmap='hot', title=\"Affine transform\")\n",
    "\n",
    "gauadd, _ = GaussianNoiseTransformation(0.2)([original_bin, torch.tensor(4)])\n",
    "print(gauadd.shape)\n",
    "plot_husimi_directly(gauadd.numpy(), cmap='hot', title=\"Gaussian additive noise\")"
   ]
  },
  {
   "cell_type": "code",
   "execution_count": 2,
   "id": "c2e2f9ea",
   "metadata": {},
   "outputs": [
    {
     "data": {
      "text/plain": [
       "Classifier(\n",
       "  (conv1): Conv2d(1, 32, kernel_size=(3, 3), stride=(1, 1), bias=False)\n",
       "  (leaky_relu): LeakyReLU(negative_slope=0.01)\n",
       "  (conv2): Conv2d(32, 32, kernel_size=(3, 3), stride=(1, 1), bias=False)\n",
       "  (drop_out): Dropout(p=0.4, inplace=False)\n",
       "  (noise): GaussianNoise()\n",
       "  (conv3): Conv2d(32, 32, kernel_size=(3, 3), stride=(2, 2), bias=False)\n",
       "  (conv4): Conv2d(32, 64, kernel_size=(3, 3), stride=(1, 1), bias=False)\n",
       "  (conv5): Conv2d(64, 64, kernel_size=(3, 3), stride=(1, 1), bias=False)\n",
       "  (conv6): Conv2d(64, 64, kernel_size=(3, 3), stride=(2, 2), bias=False)\n",
       "  (linear1): Linear(in_features=1024, out_features=512, bias=True)\n",
       "  (linear2): Linear(in_features=512, out_features=256, bias=True)\n",
       "  (linear3): Linear(in_features=256, out_features=8, bias=True)\n",
       ")"
      ]
     },
     "execution_count": 2,
     "metadata": {},
     "output_type": "execute_result"
    }
   ],
   "source": [
    "class GaussianNoise(nn.Module):\n",
    "    \"\"\"Apply additive zero-centered Gaussian noise.\n",
    "    This is useful to mitigate overfitting\n",
    "    (you could see it as a form of random data augmentation).\n",
    "    Gaussian Noise (GS) is a natural choice as corruption process\n",
    "    for real valued inputs.\n",
    "    As it is a regularization layer, it is only active at training time.\n",
    "    Args:\n",
    "      stddev: Float, standard deviation of the noise distribution.\n",
    "    Call arguments:\n",
    "      inputs: Input tensor (of any rank).\n",
    "    Input shape:\n",
    "      Arbitrary. Use the keyword argument `input_shape`\n",
    "      (tuple of integers, does not include the samples axis)\n",
    "      when using this layer as the first layer in a model.\n",
    "    Output shape:\n",
    "      Same shape as input.\n",
    "    \"\"\"\n",
    "\n",
    "    def __init__(self, \n",
    "                 std, \n",
    "                 mean=0.):\n",
    "        super().__init__()\n",
    "        self.mean = mean\n",
    "        self.std = std\n",
    "        \n",
    "    def forward(self, x):\n",
    "        return x + torch.randn(x.size(), device=device)*self.std + self.mean\n",
    "\n",
    "\n",
    "class Classifier(nn.Module):\n",
    "    def __init__(self):\n",
    "        super().__init__()\n",
    "        self.conv1 = nn.Conv2d(1, 32, 3, bias=False)\n",
    "        self.leaky_relu = nn.LeakyReLU()\n",
    "        self.conv2 = nn.Conv2d(32, 32, 3, bias=False)\n",
    "        self.drop_out = nn.Dropout(p=0.4)\n",
    "        self.noise = GaussianNoise(0.005)\n",
    "        self.conv3 = nn.Conv2d(32, 32, 3, bias=False, stride=2)\n",
    "        self.conv4 = nn.Conv2d(32, 64, 3, bias=False)\n",
    "        self.conv5 = nn.Conv2d(64, 64, 3, bias=False)\n",
    "        self.conv6 = nn.Conv2d(64, 64, 3, bias=False, stride=2)\n",
    "        self.linear1 = nn.Linear(1024, 512)\n",
    "        self.linear2 = nn.Linear(512, 256)\n",
    "        self.linear3 = nn.Linear(256, 8)\n",
    "\n",
    "    def forward(self, x):\n",
    "        x = self.conv1(x)\n",
    "        x = self.leaky_relu(x)\n",
    "        x = self.conv2(x)\n",
    "        x = self.leaky_relu(x)\n",
    "        x = self.noise(x)\n",
    "        x = self.drop_out(x)\n",
    "        x = self.conv3(x)\n",
    "        x = self.leaky_relu(x)\n",
    "        x = self.conv4(x)\n",
    "        x = self.leaky_relu(x)\n",
    "        x = self.noise(x)\n",
    "        x = self.drop_out(x)\n",
    "        x = self.conv5(x)\n",
    "        x = self.leaky_relu(x)\n",
    "        x = self.conv6(x)\n",
    "        x = self.leaky_relu(x)\n",
    "        x = self.drop_out(x)\n",
    "        x = torch.flatten(x, start_dim=1)\n",
    "        x = self.linear1(x)\n",
    "        x = self.leaky_relu(x)\n",
    "        x = self.drop_out(x)\n",
    "        x = self.linear2(x)\n",
    "        x = self.leaky_relu(x)\n",
    "        x = self.linear3(x)\n",
    "        \n",
    "        return x\n",
    "model = Classifier()\n",
    "model.to(device)"
   ]
  },
  {
   "cell_type": "code",
   "execution_count": 3,
   "id": "bdd63f6d",
   "metadata": {},
   "outputs": [],
   "source": [
    "loss = nn.CrossEntropyLoss().to(device)\n",
    "optimizer = torch.optim.Adam(model.parameters(), lr=0.0002, betas=(0.9, 0.9))"
   ]
  },
  {
   "cell_type": "code",
   "execution_count": 4,
   "id": "a70209ec",
   "metadata": {},
   "outputs": [
    {
     "name": "stdout",
     "output_type": "stream",
     "text": [
      "Epoch 1\n",
      "-------------------------------\n"
     ]
    },
    {
     "ename": "RuntimeError",
     "evalue": "Input type (torch.cuda.DoubleTensor) and weight type (torch.cuda.FloatTensor) should be the same",
     "output_type": "error",
     "traceback": [
      "\u001b[0;31m---------------------------------------------------------------------------\u001b[0m",
      "\u001b[0;31mRuntimeError\u001b[0m                              Traceback (most recent call last)",
      "Cell \u001b[0;32mIn [4], line 42\u001b[0m\n\u001b[1;32m     40\u001b[0m \u001b[38;5;28;01mfor\u001b[39;00m t \u001b[38;5;129;01min\u001b[39;00m \u001b[38;5;28mrange\u001b[39m(epochs):\n\u001b[1;32m     41\u001b[0m     \u001b[38;5;28mprint\u001b[39m(\u001b[38;5;124mf\u001b[39m\u001b[38;5;124m\"\u001b[39m\u001b[38;5;124mEpoch \u001b[39m\u001b[38;5;132;01m{\u001b[39;00mt\u001b[38;5;241m+\u001b[39m\u001b[38;5;241m1\u001b[39m\u001b[38;5;132;01m}\u001b[39;00m\u001b[38;5;130;01m\\n\u001b[39;00m\u001b[38;5;124m-------------------------------\u001b[39m\u001b[38;5;124m\"\u001b[39m)\n\u001b[0;32m---> 42\u001b[0m     \u001b[43mtrain\u001b[49m\u001b[43m(\u001b[49m\u001b[43mtrain_dataloader\u001b[49m\u001b[43m,\u001b[49m\u001b[43m \u001b[49m\u001b[43mmodel\u001b[49m\u001b[43m,\u001b[49m\u001b[43m \u001b[49m\u001b[43mloss\u001b[49m\u001b[43m,\u001b[49m\u001b[43m \u001b[49m\u001b[43moptimizer\u001b[49m\u001b[43m)\u001b[49m\n\u001b[1;32m     43\u001b[0m     test(test_dataloader, model, loss)\n\u001b[1;32m     44\u001b[0m \u001b[38;5;28mprint\u001b[39m(\u001b[38;5;124m\"\u001b[39m\u001b[38;5;124mDone!\u001b[39m\u001b[38;5;124m\"\u001b[39m)\n",
      "Cell \u001b[0;32mIn [4], line 12\u001b[0m, in \u001b[0;36mtrain\u001b[0;34m(dataloader, model, loss_fn, optimizer)\u001b[0m\n\u001b[1;32m      9\u001b[0m X, y \u001b[38;5;241m=\u001b[39m X\u001b[38;5;241m.\u001b[39mto(device), y\u001b[38;5;241m.\u001b[39mto(device)\u001b[38;5;241m.\u001b[39mtype(torch\u001b[38;5;241m.\u001b[39mLongTensor)\n\u001b[1;32m     11\u001b[0m \u001b[38;5;66;03m# Compute prediction error\u001b[39;00m\n\u001b[0;32m---> 12\u001b[0m pred \u001b[38;5;241m=\u001b[39m \u001b[43mmodel\u001b[49m\u001b[43m(\u001b[49m\u001b[43mX\u001b[49m\u001b[43m)\u001b[49m\n\u001b[1;32m     13\u001b[0m loss \u001b[38;5;241m=\u001b[39m loss_fn(pred\u001b[38;5;241m.\u001b[39mto(device), y\u001b[38;5;241m.\u001b[39mto(device))\n\u001b[1;32m     15\u001b[0m \u001b[38;5;66;03m# Backpropagation\u001b[39;00m\n",
      "File \u001b[0;32m~/qst-nn-venv/lib/python3.8/site-packages/torch/nn/modules/module.py:1130\u001b[0m, in \u001b[0;36mModule._call_impl\u001b[0;34m(self, *input, **kwargs)\u001b[0m\n\u001b[1;32m   1126\u001b[0m \u001b[38;5;66;03m# If we don't have any hooks, we want to skip the rest of the logic in\u001b[39;00m\n\u001b[1;32m   1127\u001b[0m \u001b[38;5;66;03m# this function, and just call forward.\u001b[39;00m\n\u001b[1;32m   1128\u001b[0m \u001b[38;5;28;01mif\u001b[39;00m \u001b[38;5;129;01mnot\u001b[39;00m (\u001b[38;5;28mself\u001b[39m\u001b[38;5;241m.\u001b[39m_backward_hooks \u001b[38;5;129;01mor\u001b[39;00m \u001b[38;5;28mself\u001b[39m\u001b[38;5;241m.\u001b[39m_forward_hooks \u001b[38;5;129;01mor\u001b[39;00m \u001b[38;5;28mself\u001b[39m\u001b[38;5;241m.\u001b[39m_forward_pre_hooks \u001b[38;5;129;01mor\u001b[39;00m _global_backward_hooks\n\u001b[1;32m   1129\u001b[0m         \u001b[38;5;129;01mor\u001b[39;00m _global_forward_hooks \u001b[38;5;129;01mor\u001b[39;00m _global_forward_pre_hooks):\n\u001b[0;32m-> 1130\u001b[0m     \u001b[38;5;28;01mreturn\u001b[39;00m \u001b[43mforward_call\u001b[49m\u001b[43m(\u001b[49m\u001b[38;5;241;43m*\u001b[39;49m\u001b[38;5;28;43minput\u001b[39;49m\u001b[43m,\u001b[49m\u001b[43m \u001b[49m\u001b[38;5;241;43m*\u001b[39;49m\u001b[38;5;241;43m*\u001b[39;49m\u001b[43mkwargs\u001b[49m\u001b[43m)\u001b[49m\n\u001b[1;32m   1131\u001b[0m \u001b[38;5;66;03m# Do not call functions when jit is used\u001b[39;00m\n\u001b[1;32m   1132\u001b[0m full_backward_hooks, non_full_backward_hooks \u001b[38;5;241m=\u001b[39m [], []\n",
      "Cell \u001b[0;32mIn [2], line 48\u001b[0m, in \u001b[0;36mClassifier.forward\u001b[0;34m(self, x)\u001b[0m\n\u001b[1;32m     47\u001b[0m \u001b[38;5;28;01mdef\u001b[39;00m \u001b[38;5;21mforward\u001b[39m(\u001b[38;5;28mself\u001b[39m, x):\n\u001b[0;32m---> 48\u001b[0m     x \u001b[38;5;241m=\u001b[39m \u001b[38;5;28;43mself\u001b[39;49m\u001b[38;5;241;43m.\u001b[39;49m\u001b[43mconv1\u001b[49m\u001b[43m(\u001b[49m\u001b[43mx\u001b[49m\u001b[43m)\u001b[49m\n\u001b[1;32m     49\u001b[0m     x \u001b[38;5;241m=\u001b[39m \u001b[38;5;28mself\u001b[39m\u001b[38;5;241m.\u001b[39mleaky_relu(x)\n\u001b[1;32m     50\u001b[0m     x \u001b[38;5;241m=\u001b[39m \u001b[38;5;28mself\u001b[39m\u001b[38;5;241m.\u001b[39mconv2(x)\n",
      "File \u001b[0;32m~/qst-nn-venv/lib/python3.8/site-packages/torch/nn/modules/module.py:1130\u001b[0m, in \u001b[0;36mModule._call_impl\u001b[0;34m(self, *input, **kwargs)\u001b[0m\n\u001b[1;32m   1126\u001b[0m \u001b[38;5;66;03m# If we don't have any hooks, we want to skip the rest of the logic in\u001b[39;00m\n\u001b[1;32m   1127\u001b[0m \u001b[38;5;66;03m# this function, and just call forward.\u001b[39;00m\n\u001b[1;32m   1128\u001b[0m \u001b[38;5;28;01mif\u001b[39;00m \u001b[38;5;129;01mnot\u001b[39;00m (\u001b[38;5;28mself\u001b[39m\u001b[38;5;241m.\u001b[39m_backward_hooks \u001b[38;5;129;01mor\u001b[39;00m \u001b[38;5;28mself\u001b[39m\u001b[38;5;241m.\u001b[39m_forward_hooks \u001b[38;5;129;01mor\u001b[39;00m \u001b[38;5;28mself\u001b[39m\u001b[38;5;241m.\u001b[39m_forward_pre_hooks \u001b[38;5;129;01mor\u001b[39;00m _global_backward_hooks\n\u001b[1;32m   1129\u001b[0m         \u001b[38;5;129;01mor\u001b[39;00m _global_forward_hooks \u001b[38;5;129;01mor\u001b[39;00m _global_forward_pre_hooks):\n\u001b[0;32m-> 1130\u001b[0m     \u001b[38;5;28;01mreturn\u001b[39;00m \u001b[43mforward_call\u001b[49m\u001b[43m(\u001b[49m\u001b[38;5;241;43m*\u001b[39;49m\u001b[38;5;28;43minput\u001b[39;49m\u001b[43m,\u001b[49m\u001b[43m \u001b[49m\u001b[38;5;241;43m*\u001b[39;49m\u001b[38;5;241;43m*\u001b[39;49m\u001b[43mkwargs\u001b[49m\u001b[43m)\u001b[49m\n\u001b[1;32m   1131\u001b[0m \u001b[38;5;66;03m# Do not call functions when jit is used\u001b[39;00m\n\u001b[1;32m   1132\u001b[0m full_backward_hooks, non_full_backward_hooks \u001b[38;5;241m=\u001b[39m [], []\n",
      "File \u001b[0;32m~/qst-nn-venv/lib/python3.8/site-packages/torch/nn/modules/conv.py:457\u001b[0m, in \u001b[0;36mConv2d.forward\u001b[0;34m(self, input)\u001b[0m\n\u001b[1;32m    456\u001b[0m \u001b[38;5;28;01mdef\u001b[39;00m \u001b[38;5;21mforward\u001b[39m(\u001b[38;5;28mself\u001b[39m, \u001b[38;5;28minput\u001b[39m: Tensor) \u001b[38;5;241m-\u001b[39m\u001b[38;5;241m>\u001b[39m Tensor:\n\u001b[0;32m--> 457\u001b[0m     \u001b[38;5;28;01mreturn\u001b[39;00m \u001b[38;5;28;43mself\u001b[39;49m\u001b[38;5;241;43m.\u001b[39;49m\u001b[43m_conv_forward\u001b[49m\u001b[43m(\u001b[49m\u001b[38;5;28;43minput\u001b[39;49m\u001b[43m,\u001b[49m\u001b[43m \u001b[49m\u001b[38;5;28;43mself\u001b[39;49m\u001b[38;5;241;43m.\u001b[39;49m\u001b[43mweight\u001b[49m\u001b[43m,\u001b[49m\u001b[43m \u001b[49m\u001b[38;5;28;43mself\u001b[39;49m\u001b[38;5;241;43m.\u001b[39;49m\u001b[43mbias\u001b[49m\u001b[43m)\u001b[49m\n",
      "File \u001b[0;32m~/qst-nn-venv/lib/python3.8/site-packages/torch/nn/modules/conv.py:453\u001b[0m, in \u001b[0;36mConv2d._conv_forward\u001b[0;34m(self, input, weight, bias)\u001b[0m\n\u001b[1;32m    449\u001b[0m \u001b[38;5;28;01mif\u001b[39;00m \u001b[38;5;28mself\u001b[39m\u001b[38;5;241m.\u001b[39mpadding_mode \u001b[38;5;241m!=\u001b[39m \u001b[38;5;124m'\u001b[39m\u001b[38;5;124mzeros\u001b[39m\u001b[38;5;124m'\u001b[39m:\n\u001b[1;32m    450\u001b[0m     \u001b[38;5;28;01mreturn\u001b[39;00m F\u001b[38;5;241m.\u001b[39mconv2d(F\u001b[38;5;241m.\u001b[39mpad(\u001b[38;5;28minput\u001b[39m, \u001b[38;5;28mself\u001b[39m\u001b[38;5;241m.\u001b[39m_reversed_padding_repeated_twice, mode\u001b[38;5;241m=\u001b[39m\u001b[38;5;28mself\u001b[39m\u001b[38;5;241m.\u001b[39mpadding_mode),\n\u001b[1;32m    451\u001b[0m                     weight, bias, \u001b[38;5;28mself\u001b[39m\u001b[38;5;241m.\u001b[39mstride,\n\u001b[1;32m    452\u001b[0m                     _pair(\u001b[38;5;241m0\u001b[39m), \u001b[38;5;28mself\u001b[39m\u001b[38;5;241m.\u001b[39mdilation, \u001b[38;5;28mself\u001b[39m\u001b[38;5;241m.\u001b[39mgroups)\n\u001b[0;32m--> 453\u001b[0m \u001b[38;5;28;01mreturn\u001b[39;00m \u001b[43mF\u001b[49m\u001b[38;5;241;43m.\u001b[39;49m\u001b[43mconv2d\u001b[49m\u001b[43m(\u001b[49m\u001b[38;5;28;43minput\u001b[39;49m\u001b[43m,\u001b[49m\u001b[43m \u001b[49m\u001b[43mweight\u001b[49m\u001b[43m,\u001b[49m\u001b[43m \u001b[49m\u001b[43mbias\u001b[49m\u001b[43m,\u001b[49m\u001b[43m \u001b[49m\u001b[38;5;28;43mself\u001b[39;49m\u001b[38;5;241;43m.\u001b[39;49m\u001b[43mstride\u001b[49m\u001b[43m,\u001b[49m\n\u001b[1;32m    454\u001b[0m \u001b[43m                \u001b[49m\u001b[38;5;28;43mself\u001b[39;49m\u001b[38;5;241;43m.\u001b[39;49m\u001b[43mpadding\u001b[49m\u001b[43m,\u001b[49m\u001b[43m \u001b[49m\u001b[38;5;28;43mself\u001b[39;49m\u001b[38;5;241;43m.\u001b[39;49m\u001b[43mdilation\u001b[49m\u001b[43m,\u001b[49m\u001b[43m \u001b[49m\u001b[38;5;28;43mself\u001b[39;49m\u001b[38;5;241;43m.\u001b[39;49m\u001b[43mgroups\u001b[49m\u001b[43m)\u001b[49m\n",
      "\u001b[0;31mRuntimeError\u001b[0m: Input type (torch.cuda.DoubleTensor) and weight type (torch.cuda.FloatTensor) should be the same"
     ]
    }
   ],
   "source": [
    "import os\n",
    "\n",
    "os.environ['CUDA_LAUNCH_BLOCKING'] = \"1\"\n",
    "\n",
    "def train(dataloader, model, loss_fn, optimizer):\n",
    "    size = len(dataloader.dataset)\n",
    "    model.train()\n",
    "    for batch, (X, y) in enumerate(dataloader):\n",
    "        X, y = X.to(device), y.to(device).type(torch.LongTensor)\n",
    "\n",
    "        # Compute prediction error\n",
    "        pred = model(X)\n",
    "        loss = loss_fn(pred.to(device), y.to(device))\n",
    "\n",
    "        # Backpropagation\n",
    "        optimizer.zero_grad()\n",
    "        loss.backward()\n",
    "        optimizer.step()\n",
    "\n",
    "        if batch % 100 == 0:\n",
    "            loss, current = loss.item(), batch * len(X)\n",
    "            print(f\"loss: {loss:>7f}  [{current:>5d}/{size:>5d}]\")\n",
    "            \n",
    "def test(dataloader, model, loss_fn):\n",
    "    size = len(dataloader.dataset)\n",
    "    num_batches = len(dataloader)\n",
    "    model.eval()\n",
    "    test_loss, correct = 0, 0\n",
    "    with torch.no_grad():\n",
    "        for X, y in dataloader:\n",
    "            X, y = X.to(device), y.to(device).type(torch.LongTensor)\n",
    "            pred = model(X)\n",
    "            test_loss += loss_fn(pred.to(device), y.to(device)).item()\n",
    "            correct += (pred.argmax(-1).to(device) == y.to(device)).type(torch.float).sum().item()\n",
    "    test_loss /= num_batches\n",
    "    correct /= size\n",
    "    print(f\"Test Error: \\n Accuracy: {(100*correct):>0.1f}%, Avg loss: {test_loss:>8f} \\n\")\n",
    "    \n",
    "epochs = 50\n",
    "for t in range(epochs):\n",
    "    print(f\"Epoch {t+1}\\n-------------------------------\")\n",
    "    train(train_dataloader, model, loss, optimizer)\n",
    "    test(test_dataloader, model, loss)\n",
    "print(\"Done!\")"
   ]
  },
  {
   "cell_type": "code",
   "execution_count": null,
   "id": "01eb220e",
   "metadata": {},
   "outputs": [],
   "source": []
  }
 ],
 "metadata": {
  "kernelspec": {
   "display_name": "Python 3 (ipykernel)",
   "language": "python",
   "name": "python3"
  },
  "language_info": {
   "codemirror_mode": {
    "name": "ipython",
    "version": 3
   },
   "file_extension": ".py",
   "mimetype": "text/x-python",
   "name": "python",
   "nbconvert_exporter": "python",
   "pygments_lexer": "ipython3",
   "version": "3.8.10"
  }
 },
 "nbformat": 4,
 "nbformat_minor": 5
}
